{
 "metadata": {
  "language_info": {
   "codemirror_mode": {
    "name": "ipython",
    "version": 3
   },
   "file_extension": ".py",
   "mimetype": "text/x-python",
   "name": "python",
   "nbconvert_exporter": "python",
   "pygments_lexer": "ipython3",
   "version": "3.8.5-final"
  },
  "orig_nbformat": 2,
  "kernelspec": {
   "name": "python38564bitmlenvconda745f6d88f4474219a8327e20bc9e7f08",
   "display_name": "Python 3.8.5 64-bit ('MLEnv': conda)"
  }
 },
 "nbformat": 4,
 "nbformat_minor": 2,
 "cells": [
  {
   "cell_type": "code",
   "execution_count": null,
   "metadata": {},
   "outputs": [],
   "source": [
    "from src import ML_Backend"
   ]
  },
  {
   "cell_type": "code",
   "execution_count": null,
   "metadata": {},
   "outputs": [],
   "source": [
    "mlbackend = ML_Backend.ML_Backend(training=True, model_Types = [\"RandomForestRegressor\", \"DecisionTreeRegressor\", \"XGBRegressor\"], dataSetName = \"HousePrice\", dataSetFilePath=\"data/cleaned_train.csv\")"
   ]
  },
  {
   "cell_type": "code",
   "execution_count": null,
   "metadata": {},
   "outputs": [],
   "source": [
    "mlbackend.execute_Model(histogram=False, columnwise=False, target=\"Extracted Price\",dropColumns=[\"id\"], autoFS=False)"
   ]
  },
  {
   "cell_type": "code",
   "execution_count": null,
   "metadata": {},
   "outputs": [],
   "source": [
    "mlbackend = ML_Backend.ML_Backend(training=\"predict\", model_Types = [\"RandomForestRegressor\", \"DecisionTreeRegressor\", \"XGBRegressor\"], dataSetName = \"HousePrice\", dataSetFilePath=\"data/cleaned_test.csv\")\n",
    "\n"
   ]
  },
  {
   "cell_type": "code",
   "execution_count": null,
   "metadata": {},
   "outputs": [],
   "source": [
    "mlbackend.execute_Model(histogram=False, columnwise=False, target=\"Extracted Price\",dropColumns=[\"id\"], autoFS=False)"
   ]
  },
  {
   "cell_type": "code",
   "execution_count": null,
   "metadata": {},
   "outputs": [],
   "source": [
    "# TODO get mapping for onehot for import into predict/test"
   ]
  }
 ]
}